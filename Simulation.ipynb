{
 "cells": [
  {
   "cell_type": "code",
   "execution_count": null,
   "metadata": {},
   "outputs": [],
   "source": [
    "import numpy as np"
   ]
  },
  {
   "cell_type": "code",
   "execution_count": null,
   "metadata": {},
   "outputs": [],
   "source": [
    "%run Utils.ipynb\n",
    "%run Greedy.ipynb\n",
    "%run BayesUCB.ipynb\n",
    "# %run LinUCB.ipynb"
   ]
  },
  {
   "cell_type": "code",
   "execution_count": null,
   "metadata": {},
   "outputs": [],
   "source": [
    "def calculate_rank(theta, s, song_id):\n",
    "    x = data_x[song_id].T\n",
    "    t = get_all_times()[song_id]\n",
    "    return theta.T.dot(x)*(1 - np.exp(-t/s))"
   ]
  },
  {
   "cell_type": "code",
   "execution_count": null,
   "metadata": {},
   "outputs": [],
   "source": [
    "def generate_simulation(method_name):\n",
    "    random_id = np.random.randint(num_songs)\n",
    "    print(random_id)\n",
    "    random_theta = data_x[random_id].T\n",
    "    s = 100\n",
    "    if method_name == 'greedy':\n",
    "        eg = EpsilonGreedy(0.5)\n",
    "        for i in range(100):\n",
    "            song_id = eg.get_last_song_id()\n",
    "            rank = calculate_rank(random_theta, s, song_id)\n",
    "            print('rank: ', rank)\n",
    "            eg.feedback(rank)\n",
    "    elif method_name == 'bayes_ucb':\n",
    "        bu = BayesUCB()\n",
    "        for i in range(100):\n",
    "            song_id = bu.get_last_song_id()\n",
    "            rank = calculate_rank(random_theta, s, song_id)\n",
    "            bu.feedback(rank)\n",
    "    elif method_name == 'linucb':\n",
    "        pass"
   ]
  },
  {
   "cell_type": "code",
   "execution_count": null,
   "metadata": {},
   "outputs": [],
   "source": [
    "generate_simulation('greedy')"
   ]
  }
 ],
 "metadata": {
  "kernelspec": {
   "display_name": "Python 3",
   "language": "python",
   "name": "python3"
  },
  "language_info": {
   "codemirror_mode": {
    "name": "ipython",
    "version": 3
   },
   "file_extension": ".py",
   "mimetype": "text/x-python",
   "name": "python",
   "nbconvert_exporter": "python",
   "pygments_lexer": "ipython3",
   "version": "3.6.7"
  }
 },
 "nbformat": 4,
 "nbformat_minor": 2
}
