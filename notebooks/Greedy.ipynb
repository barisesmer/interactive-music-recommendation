{
 "cells": [
  {
   "cell_type": "markdown",
   "metadata": {},
   "source": [
    "#  Greedy & ε-Greedy\n",
    "\n",
    "## ! not complete"
   ]
  },
  {
   "cell_type": "markdown",
   "metadata": {},
   "source": [
    "## Description"
   ]
  },
  {
   "cell_type": "markdown",
   "metadata": {},
   "source": [
    "The simplest multiarmed bandit approach, namely epsilon-greedy, chooses the arm with the highest predicted pay off with probability 1−e or chooses arms uniformly at random with probability e."
   ]
  },
  {
   "cell_type": "markdown",
   "metadata": {},
   "source": [
    "Greedy:  The Greedy approach represents pure exploitation and always recommends the song with the highest predicted rating."
   ]
  },
  {
   "cell_type": "markdown",
   "metadata": {},
   "source": [
    " Therefore, the Greedy approach simulates the strategy used by the traditional recommenders. \n",
    "  "
   ]
  },
  {
   "cell_type": "code",
   "execution_count": 1,
   "metadata": {},
   "outputs": [],
   "source": [
    "import numpy as np \n",
    "import matplotlib.pyplot as plt\n",
    "import pandas as pd\n",
    "import datetime\n",
    "import sys"
   ]
  },
  {
   "cell_type": "code",
   "execution_count": 2,
   "metadata": {},
   "outputs": [],
   "source": [
    "from scipy.optimize import fmin_l_bfgs_b"
   ]
  },
  {
   "cell_type": "markdown",
   "metadata": {},
   "source": [
    "### Load Data"
   ]
  },
  {
   "cell_type": "code",
   "execution_count": 3,
   "metadata": {
    "scrolled": true
   },
   "outputs": [],
   "source": [
    "%run Utils.ipynb"
   ]
  },
  {
   "cell_type": "code",
   "execution_count": 4,
   "metadata": {},
   "outputs": [],
   "source": [
    "# runs as greedy if epsilon set to 0\n",
    "# parameters:\n",
    "# epsilon = random (non-greedy) choice probability, between [0-1]\n",
    "#   \n",
    "class EpsilonGreedy:\n",
    "    \n",
    "    def __init__(self,epsilon, simulation=True): \n",
    "        self.epsilon = epsilon\n",
    "        self.recommended_song_ids = []\n",
    "        self.simulation = simulation\n",
    "        self.cumulative_regret = 0\n",
    "        self.recommend_song()\n",
    "\n",
    "    \n",
    "    def get_last_song_id(self):\n",
    "        return self.recommended_song_ids[-1]\n",
    "    \n",
    "    \n",
    "    def recommend_song(self):\n",
    "        if len(self.recommended_song_ids) == 0 or self.epsilon > np.random.rand():\n",
    "            song_id = np.random.randint(num_songs)#random choice\n",
    "        else:\n",
    "            song_id = self.recommended_song_candidate# greedy choice\n",
    "        self.recommended_song_ids.append(song_id)\n",
    "        recommend_song(song_id, self.simulation)\n",
    "#         print(str(song_id) + ' ' + song_names[song_id])\n",
    "        print(self.cumulative_regret)\n",
    "\n",
    "        \n",
    "    def feedback(self,rating):\n",
    "        rate_song(rating)\n",
    "        t = get_all_times()\n",
    "        x = get_all_features()\n",
    "        theta, s = self.calculate_theta_s()\n",
    "        self.recommended_song_candidate = np.argmax(theta.T.dot(x)*(1 - np.exp(-t/s)))\n",
    "        self.calculate_cumulative_regret(theta, s)\n",
    "        self.recommend_song()\n",
    "    \n",
    "    \n",
    "    def calculate_cumulative_regret(self, theta, s):\n",
    "        y = get_ratings()\n",
    "        t = get_history_times()\n",
    "        x = get_history_features()\n",
    "        y_model = theta.T.dot(x)*(1 - np.exp(-t/s))\n",
    "        self.cumulative_regret = np.average(y - y_model)\n",
    "        \n",
    "    \n",
    "    \n",
    "    def calculate_theta_s(self):\n",
    "        initial_values = np.zeros(p + 1)\n",
    "        initial_values[-1] = 1\n",
    "        x = get_history_features()\n",
    "        y = get_ratings()\n",
    "        t = get_history_times()\n",
    "        position, _, _ = fmin_l_bfgs_b(self.optimization, x0=initial_values, args=(x, y, t), approx_grad=True)\n",
    "        theta = position[:-1]\n",
    "        s = position[-1]\n",
    "        return theta, s\n",
    "    \n",
    "    \n",
    "    def optimization(self, params, *args):\n",
    "        x = args[0]\n",
    "        y = args[1]\n",
    "        t = args[2]\n",
    "        theta = params[:-1]\n",
    "        s = params[-1]\n",
    "        y_model = theta.T.dot(x)*(1 - np.exp(-t/s))\n",
    "        error = y - y_model\n",
    "        return sum(error**2)\n",
    "        "
   ]
  },
  {
   "cell_type": "markdown",
   "metadata": {},
   "source": [
    "## Test"
   ]
  },
  {
   "cell_type": "code",
   "execution_count": 5,
   "metadata": {},
   "outputs": [
    {
     "name": "stdout",
     "output_type": "stream",
     "text": [
      "0\n"
     ]
    }
   ],
   "source": [
    "eg = EpsilonGreedy(1)"
   ]
  },
  {
   "cell_type": "code",
   "execution_count": 6,
   "metadata": {},
   "outputs": [
    {
     "name": "stdout",
     "output_type": "stream",
     "text": [
      "7.705131576996038e-06\n"
     ]
    }
   ],
   "source": [
    "eg.feedback(2)"
   ]
  },
  {
   "cell_type": "code",
   "execution_count": 7,
   "metadata": {},
   "outputs": [
    {
     "name": "stdout",
     "output_type": "stream",
     "text": [
      "6.617074945314272e-06\n"
     ]
    }
   ],
   "source": [
    "eg.feedback(5)"
   ]
  },
  {
   "cell_type": "code",
   "execution_count": 8,
   "metadata": {},
   "outputs": [
    {
     "name": "stdout",
     "output_type": "stream",
     "text": [
      "1.115341376508224e-05\n"
     ]
    }
   ],
   "source": [
    "eg.feedback(4)"
   ]
  },
  {
   "cell_type": "code",
   "execution_count": 9,
   "metadata": {},
   "outputs": [
    {
     "name": "stdout",
     "output_type": "stream",
     "text": [
      "-2.3075204439670927e-05\n"
     ]
    }
   ],
   "source": [
    "eg.feedback(5)"
   ]
  },
  {
   "cell_type": "code",
   "execution_count": 10,
   "metadata": {},
   "outputs": [
    {
     "name": "stdout",
     "output_type": "stream",
     "text": [
      "8.390716015860278e-06\n"
     ]
    }
   ],
   "source": [
    "eg.feedback(5)"
   ]
  },
  {
   "cell_type": "code",
   "execution_count": 11,
   "metadata": {},
   "outputs": [
    {
     "name": "stdout",
     "output_type": "stream",
     "text": [
      "-6.506192996876455e-06\n"
     ]
    }
   ],
   "source": [
    "eg.feedback(1)"
   ]
  },
  {
   "cell_type": "code",
   "execution_count": 12,
   "metadata": {},
   "outputs": [
    {
     "name": "stdout",
     "output_type": "stream",
     "text": [
      "6.2654349651644225e-06\n"
     ]
    }
   ],
   "source": [
    "eg.feedback(0)"
   ]
  },
  {
   "cell_type": "code",
   "execution_count": 13,
   "metadata": {},
   "outputs": [
    {
     "name": "stdout",
     "output_type": "stream",
     "text": [
      "7.738976106619333e-06\n"
     ]
    }
   ],
   "source": [
    "eg.feedback(1)"
   ]
  },
  {
   "cell_type": "code",
   "execution_count": 14,
   "metadata": {},
   "outputs": [
    {
     "name": "stdout",
     "output_type": "stream",
     "text": [
      "-6.326831096112626e-06\n"
     ]
    }
   ],
   "source": [
    "eg.feedback(2)"
   ]
  },
  {
   "cell_type": "markdown",
   "metadata": {},
   "source": [
    "## Notes for poster:"
   ]
  },
  {
   "cell_type": "markdown",
   "metadata": {},
   "source": [
    "In greedy approach the song with maximum expected rating is used. Where expected rating is calculated from previous ratings of the user. Since there is no exploration in greedy approach all unlistened songs have expected rating of 0.\n",
    "\n",
    "Since our system initializes with no pre listened songs. Pure exploration can not be even initialized. To avoid this we have used ε-greedy approach. In which the recommended song is chosen randomly with probability ε (epsilon). This allows limited-random exploitation.\n"
   ]
  },
  {
   "cell_type": "markdown",
   "metadata": {},
   "source": [
    "## References\n",
    "\n",
    "https://github.com/agilajah/multi-armed-bandit\n",
    "    "
   ]
  }
 ],
 "metadata": {
  "kernelspec": {
   "display_name": "Python 3",
   "language": "python",
   "name": "python3"
  },
  "language_info": {
   "codemirror_mode": {
    "name": "ipython",
    "version": 3
   },
   "file_extension": ".py",
   "mimetype": "text/x-python",
   "name": "python",
   "nbconvert_exporter": "python",
   "pygments_lexer": "ipython3",
   "version": "3.6.7"
  }
 },
 "nbformat": 4,
 "nbformat_minor": 2
}
