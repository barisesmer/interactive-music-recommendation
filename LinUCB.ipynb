{
 "cells": [
  {
   "cell_type": "markdown",
   "metadata": {},
   "source": [
    "# LinUCB"
   ]
  },
  {
   "cell_type": "markdown",
   "metadata": {},
   "source": [
    "## !! not working correct, needs inspection"
   ]
  },
  {
   "cell_type": "code",
   "execution_count": null,
   "metadata": {},
   "outputs": [],
   "source": []
  },
  {
   "cell_type": "markdown",
   "metadata": {},
   "source": [
    "UCB with Linear Hypotheses"
   ]
  },
  {
   "cell_type": "markdown",
   "metadata": {},
   "source": [
    "Like all UCB methods, LinUCB always chooses the arm with highest UCB"
   ]
  },
  {
   "cell_type": "code",
   "execution_count": 8,
   "metadata": {},
   "outputs": [],
   "source": [
    "import numpy as np \n",
    "import matplotlib.pyplot as plt\n"
   ]
  },
  {
   "cell_type": "markdown",
   "metadata": {},
   "source": [
    "## Algorithm\n"
   ]
  },
  {
   "cell_type": "code",
   "execution_count": 71,
   "metadata": {},
   "outputs": [],
   "source": [
    "class linUCB:\n",
    "    def __init__(self,num_songs,num_feats,alpha,song_features):\n",
    "        self.d = num_songs\n",
    "        self.K = num_feats # of song feature vector\n",
    "        self.alpha = alpha\n",
    "        #self.song_features = song_features # d * K matrix showing features of songs\n",
    "        self.song_features = song_features\n",
    "        self.feature_weights = np.zeros(num_feats)# update with ratings\n",
    "        self.weighted_song_vectors = np.zeros((self.d,self.K))#song_feature_vectors * feature_weights\n",
    "        \n",
    "        self.A = np.identity(self.K)\n",
    "        self.b = np.zeros(self.K)\n",
    "        #self.A = np.zeros((self.d,self.K,self.K)) # initialize A for each song\n",
    "        #for i in range(self.d):\n",
    "        #    A[i] = np.identity(self.K)\n",
    "        #self.b = np.zeros((self.d,self.K,1))\n",
    "        self.choosen_song_index = 0 # random initial value\n",
    "        print(\"recommendation song index : \"+str(self.choosen_song_index))\n",
    "        #self.choosen_song_rating = None\n",
    "                    \n",
    "    def iterate(self,rating):\n",
    "        #self.choosen_song_rating = rating\n",
    "        p = np.zeros(self.K)\n",
    "        theta = np.linalg.inv(self.A).dot(self.b)\n",
    "        x = song_features[self.choosen_song_index]\n",
    "        for a in range(self.K):\n",
    "            print(x.T.dot(np.linalg.inv(self.A).dot(x[a])))\n",
    "            p[a] = theta.dot(x[a] + self.alpha*np.sqrt(x.T.dot(np.linalg.inv(self.A).dot(x[a]))))# compute ucb\n",
    "        #update parameters\n",
    "        self.A = self.A + x.dot(x.T)\n",
    "        self.b = self.b + x.dot(song_features[self.choosen_song_index]*rating)#change to feature repr\n",
    "        print(self.A)\n",
    "        print(self.b)\n",
    "        #recommend new song\n",
    "        self.choosen_song_index = np.argmax(p)\n",
    "        print(p)\n",
    "        print(\"recommendation song index : \"+str(self.choosen_song_index))"
   ]
  },
  {
   "cell_type": "markdown",
   "metadata": {},
   "source": [
    "## Test"
   ]
  },
  {
   "cell_type": "code",
   "execution_count": 67,
   "metadata": {},
   "outputs": [],
   "source": [
    "num_songs = 5\n",
    "num_feats = 4\n",
    "alpha = 0.5\n",
    "song_features = np.array([[2., 2., 0., 0.],\n",
    "       [1., 0., 4., 3.],\n",
    "       [1., 0., 0., 2.],\n",
    "       [0., 0., 10., 0.],\n",
    "       [0., 10., 0., 10.]])\n",
    "testy = linUCB(num_songs,num_feats,alpha,song_features)\n",
    "tesy.iterate(3)\n",
    "tesy.iterate(3)\n",
    "tesy.iterate(3)"
   ]
  },
  {
   "cell_type": "code",
   "execution_count": null,
   "metadata": {},
   "outputs": [],
   "source": []
  },
  {
   "cell_type": "markdown",
   "metadata": {},
   "source": [
    "## Notes For Poster\n",
    "\n",
    "lorem ipsum"
   ]
  },
  {
   "cell_type": "markdown",
   "metadata": {},
   "source": [
    "## References\n",
    "\n",
    "https://dl.acm.org/citation.cfm?id=1772758 (lin ucb base paper)\n",
    "\n",
    "http://proceedings.mlr.press/v15/chu11a/chu11a.pdf (lin ucb algorithm)\n",
    "\n",
    "https://github.com/Fengrui/LinearUCB-python/blob/master/policy_lin_ucb2.py (lin ucb implementation)\n",
    "\n",
    "https://github.com/akhadangi/Multi-armed-Bandits/blob/master/Multi-armed%20Bandits.ipynb (lin ucb implementation)"
   ]
  },
  {
   "cell_type": "code",
   "execution_count": null,
   "metadata": {},
   "outputs": [],
   "source": []
  },
  {
   "cell_type": "code",
   "execution_count": null,
   "metadata": {},
   "outputs": [],
   "source": []
  }
 ],
 "metadata": {
  "kernelspec": {
   "display_name": "Python 3",
   "language": "python",
   "name": "python3"
  },
  "language_info": {
   "codemirror_mode": {
    "name": "ipython",
    "version": 3
   },
   "file_extension": ".py",
   "mimetype": "text/x-python",
   "name": "python",
   "nbconvert_exporter": "python",
   "pygments_lexer": "ipython3",
   "version": "3.6.5"
  }
 },
 "nbformat": 4,
 "nbformat_minor": 2
}
