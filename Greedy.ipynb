{
 "cells": [
  {
   "cell_type": "markdown",
   "metadata": {},
   "source": [
    "#  Greedy & ε-Greedy\n",
    "\n",
    "## ! not complete"
   ]
  },
  {
   "cell_type": "markdown",
   "metadata": {},
   "source": [
    "## Description"
   ]
  },
  {
   "cell_type": "markdown",
   "metadata": {},
   "source": [
    "The simplest multiarmed bandit approach, namely epsilon-greedy, chooses the arm with the highest predicted pay off with probability 1−e or chooses arms uniformly at random with probability e."
   ]
  },
  {
   "cell_type": "markdown",
   "metadata": {},
   "source": [
    "Greedy:  The Greedy approach represents pure exploitation and always recommends the song with the highest predicted rating."
   ]
  },
  {
   "cell_type": "markdown",
   "metadata": {},
   "source": [
    " Therefore, the Greedy approach simulates the strategy used by the traditional recommenders. \n",
    "  "
   ]
  },
  {
   "cell_type": "code",
   "execution_count": 50,
   "metadata": {},
   "outputs": [],
   "source": [
    "import numpy as np \n",
    "import matplotlib.pyplot as plt\n",
    "import pandas as pd\n",
    "import datetime\n",
    "import sys"
   ]
  },
  {
   "cell_type": "code",
   "execution_count": 51,
   "metadata": {},
   "outputs": [],
   "source": [
    "from scipy.optimize import fmin_l_bfgs_b"
   ]
  },
  {
   "cell_type": "markdown",
   "metadata": {},
   "source": [
    "### Load Data"
   ]
  },
  {
   "cell_type": "code",
   "execution_count": 66,
   "metadata": {
    "scrolled": true
   },
   "outputs": [],
   "source": [
    "%run Utils.ipynb"
   ]
  },
  {
   "cell_type": "code",
   "execution_count": 67,
   "metadata": {},
   "outputs": [],
   "source": [
    "# runs as greedy if epsilon set to 0\n",
    "# parameters:\n",
    "# epsilon = random (non-greedy) choice probability, between [0-1]\n",
    "#   \n",
    "class epsilonGreedy:\n",
    "    def __init__(self,epsilon): \n",
    "        self.epsilon = epsilon\n",
    "        self.ratings = []\n",
    "        self.last_dates = []\n",
    "        self.times = np.ones(num_songs)\n",
    "        self.times = self.times * sys.maxsize\n",
    "        self.recommended_song_ids = []\n",
    "        self.feature_history = []\n",
    "        self.last_recommended_song_id = 0\n",
    "        self.recommend_song()\n",
    "    \n",
    "    def recommend_song(self):\n",
    "        if len(self.recommended_song_ids) == 0 or self.epsilon > np.random.rand():\n",
    "            song_id = np.random.randint(num_songs)#random choice\n",
    "        else:\n",
    "            song_id = self.recommended_song_candidate# greedy choice\n",
    "        recommend_song(song_id)\n",
    "        self.last_recommended_song_id = song_id\n",
    "        print(str(song_id) + ' ' + song_names[song_id])\n",
    "\n",
    "        \n",
    "    def feedback(self,rating):\n",
    "        rate_song(rating)\n",
    "        t = get_all_times()\n",
    "        x = get_all_features()\n",
    "        theta, s = self.calculate_theta_s()\n",
    "        self.recommended_song_candidate = np.argmax(theta.T.dot(x)*(1 - np.exp(-t/s)))\n",
    "        self.recommend_song()\n",
    "    \n",
    "    def calculate_theta_s(self):\n",
    "        initial_values = np.zeros(p + 1)\n",
    "        initial_values[-1] = 1\n",
    "        t = np.array(self.times[self.recommended_song_ids])\n",
    "        x = get_history_features()\n",
    "        y = get_ratings()\n",
    "        t = get_history_times()\n",
    "        print(type(t[0]))\n",
    "        position, _, _ = fmin_l_bfgs_b(self.optimization, x0=initial_values, args=(x, y, t), approx_grad=True)\n",
    "        theta = position[:-1]\n",
    "        s = position[-1]\n",
    "        print(position)\n",
    "        return theta, s\n",
    "    \n",
    "    def calculate_times(self):\n",
    "#         self.times[self.recommended_song_ids] = np.random.randint(15)\n",
    "        self.times[self.recommended_song_ids] = [(np.datetime64(datetime.datetime.now()) - np.datetime64(x)).astype('timedelta64[m]').astype('int') for x in self.last_dates]\n",
    "    \n",
    "    def optimization(self, params, *args):\n",
    "        x = args[0]\n",
    "        y = args[1]\n",
    "        t = args[2]\n",
    "        theta = params[:-1]\n",
    "        s = params[-1]\n",
    "        y_model = theta.T.dot(x)*(1 - np.exp(-t/s))\n",
    "        error = y - y_model\n",
    "        return sum(error**2)\n",
    "        "
   ]
  },
  {
   "cell_type": "markdown",
   "metadata": {},
   "source": [
    "## Test"
   ]
  },
  {
   "cell_type": "code",
   "execution_count": 68,
   "metadata": {},
   "outputs": [
    {
     "name": "stdout",
     "output_type": "stream",
     "text": [
      "4778 The Aardvark Trail\n"
     ]
    }
   ],
   "source": [
    "eg = epsilonGreedy(1)"
   ]
  },
  {
   "cell_type": "code",
   "execution_count": 69,
   "metadata": {},
   "outputs": [
    {
     "name": "stdout",
     "output_type": "stream",
     "text": [
      "<class 'numpy.int64'>\n",
      "[0. 0. 0. 0. 0. 0. 0. 0. 0. 0. 0. 0. 0. 0. 0. 0. 0. 0. 0. 0. 0. 0. 0. 0.\n",
      " 0. 0. 0. 0. 0. 0. 0. 1.]\n",
      "5797 The Man With The Black Moustache\n"
     ]
    }
   ],
   "source": [
    "eg.feedback(2)"
   ]
  },
  {
   "cell_type": "code",
   "execution_count": 70,
   "metadata": {},
   "outputs": [
    {
     "name": "stdout",
     "output_type": "stream",
     "text": [
      "<class 'numpy.int64'>\n",
      "[0. 0. 0. 0. 0. 0. 0. 0. 0. 0. 0. 0. 0. 0. 0. 0. 0. 0. 0. 0. 0. 0. 0. 0.\n",
      " 0. 0. 0. 0. 0. 0. 0. 1.]\n",
      "5528 The Boy With The Perpetual Nervousness\n"
     ]
    }
   ],
   "source": [
    "eg.feedback(5)"
   ]
  },
  {
   "cell_type": "code",
   "execution_count": 71,
   "metadata": {},
   "outputs": [
    {
     "name": "stdout",
     "output_type": "stream",
     "text": [
      "<class 'numpy.int64'>\n",
      "[0. 0. 0. 0. 0. 0. 0. 0. 0. 0. 0. 0. 0. 0. 0. 0. 0. 0. 0. 0. 0. 0. 0. 0.\n",
      " 0. 0. 0. 0. 0. 0. 0. 1.]\n",
      "5403 Cry Like A Baby\n"
     ]
    }
   ],
   "source": [
    "eg.feedback(4)"
   ]
  },
  {
   "cell_type": "code",
   "execution_count": 72,
   "metadata": {},
   "outputs": [
    {
     "name": "stdout",
     "output_type": "stream",
     "text": [
      "<class 'numpy.int64'>\n",
      "[0. 0. 0. 0. 0. 0. 0. 0. 0. 0. 0. 0. 0. 0. 0. 0. 0. 0. 0. 0. 0. 0. 0. 0.\n",
      " 0. 0. 0. 0. 0. 0. 0. 1.]\n",
      "235 Logic Moon\n"
     ]
    }
   ],
   "source": [
    "eg.feedback(5)"
   ]
  },
  {
   "cell_type": "code",
   "execution_count": 73,
   "metadata": {},
   "outputs": [
    {
     "name": "stdout",
     "output_type": "stream",
     "text": [
      "<class 'numpy.int64'>\n",
      "[0. 0. 0. 0. 0. 0. 0. 0. 0. 0. 0. 0. 0. 0. 0. 0. 0. 0. 0. 0. 0. 0. 0. 0.\n",
      " 0. 0. 0. 0. 0. 0. 0. 1.]\n",
      "200 Falling\n"
     ]
    }
   ],
   "source": [
    "eg.feedback(5)"
   ]
  },
  {
   "cell_type": "code",
   "execution_count": 74,
   "metadata": {},
   "outputs": [
    {
     "name": "stdout",
     "output_type": "stream",
     "text": [
      "<class 'numpy.int64'>\n",
      "[0. 0. 0. 0. 0. 0. 0. 0. 0. 0. 0. 0. 0. 0. 0. 0. 0. 0. 0. 0. 0. 0. 0. 0.\n",
      " 0. 0. 0. 0. 0. 0. 0. 1.]\n",
      "2724 Black Cab\n"
     ]
    }
   ],
   "source": [
    "eg.feedback(1)"
   ]
  },
  {
   "cell_type": "code",
   "execution_count": 75,
   "metadata": {},
   "outputs": [
    {
     "name": "stdout",
     "output_type": "stream",
     "text": [
      "<class 'numpy.int64'>\n",
      "[0. 0. 0. 0. 0. 0. 0. 0. 0. 0. 0. 0. 0. 0. 0. 0. 0. 0. 0. 0. 0. 0. 0. 0.\n",
      " 0. 0. 0. 0. 0. 0. 0. 1.]\n",
      "6563 Way Beyond Empty\n"
     ]
    }
   ],
   "source": [
    "eg.feedback(0)"
   ]
  },
  {
   "cell_type": "code",
   "execution_count": 76,
   "metadata": {},
   "outputs": [
    {
     "name": "stdout",
     "output_type": "stream",
     "text": [
      "<class 'numpy.int64'>\n",
      "[0. 0. 0. 0. 0. 0. 0. 0. 0. 0. 0. 0. 0. 0. 0. 0. 0. 0. 0. 0. 0. 0. 0. 0.\n",
      " 0. 0. 0. 0. 0. 0. 0. 1.]\n",
      "6163 Darwin\n"
     ]
    }
   ],
   "source": [
    "eg.feedback(1)"
   ]
  },
  {
   "cell_type": "code",
   "execution_count": 77,
   "metadata": {},
   "outputs": [
    {
     "name": "stdout",
     "output_type": "stream",
     "text": [
      "<class 'numpy.int64'>\n",
      "[0. 0. 0. 0. 0. 0. 0. 0. 0. 0. 0. 0. 0. 0. 0. 0. 0. 0. 0. 0. 0. 0. 0. 0.\n",
      " 0. 0. 0. 0. 0. 0. 0. 1.]\n",
      "6050 Summertime\n"
     ]
    }
   ],
   "source": [
    "eg.feedback(2)"
   ]
  },
  {
   "cell_type": "markdown",
   "metadata": {},
   "source": [
    "## Notes for poster:"
   ]
  },
  {
   "cell_type": "markdown",
   "metadata": {},
   "source": [
    "In greedy approach the song with maximum expected rating is used. Where expected rating is calculated from previous ratings of the user. Since there is no exploration in greedy approach all unlistened songs have expected rating of 0.\n",
    "\n",
    "Since our system initializes with no pre listened songs. Pure exploration can not be even initialized. To avoid this we have used ε-greedy approach. In which the recommended song is chosen randomly with probability ε (epsilon). This allows limited-random exploitation.\n"
   ]
  },
  {
   "cell_type": "markdown",
   "metadata": {},
   "source": [
    "## References\n",
    "\n",
    "https://github.com/agilajah/multi-armed-bandit\n",
    "    "
   ]
  },
  {
   "cell_type": "code",
   "execution_count": null,
   "metadata": {},
   "outputs": [],
   "source": []
  }
 ],
 "metadata": {
  "kernelspec": {
   "display_name": "Python 3",
   "language": "python",
   "name": "python3"
  },
  "language_info": {
   "codemirror_mode": {
    "name": "ipython",
    "version": 3
   },
   "file_extension": ".py",
   "mimetype": "text/x-python",
   "name": "python",
   "nbconvert_exporter": "python",
   "pygments_lexer": "ipython3",
   "version": "3.6.7"
  }
 },
 "nbformat": 4,
 "nbformat_minor": 2
}
