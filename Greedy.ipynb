{
 "cells": [
  {
   "cell_type": "markdown",
   "metadata": {},
   "source": [
    "#  Greedy & ε-Greedy\n",
    "\n",
    "## ! not complete"
   ]
  },
  {
   "cell_type": "markdown",
   "metadata": {},
   "source": [
    "## Description"
   ]
  },
  {
   "cell_type": "markdown",
   "metadata": {},
   "source": [
    "The simplest multiarmed bandit approach, namely epsilon-greedy, chooses the arm with the highest predicted pay off with probability 1−e or chooses arms uniformly at random with probability e."
   ]
  },
  {
   "cell_type": "markdown",
   "metadata": {},
   "source": [
    "Greedy:  The Greedy approach represents pure exploitation and always recommends the song with the highest predicted rating."
   ]
  },
  {
   "cell_type": "markdown",
   "metadata": {},
   "source": [
    " Therefore, the Greedy approach simulates the strategy used by the traditional recommenders. \n",
    "  "
   ]
  },
  {
   "cell_type": "code",
   "execution_count": 44,
   "metadata": {},
   "outputs": [],
   "source": [
    "import numpy as np \n",
    "import matplotlib.pyplot as plt\n",
    "import pandas as pd\n",
    "import datetime\n",
    "import sys"
   ]
  },
  {
   "cell_type": "code",
   "execution_count": 45,
   "metadata": {},
   "outputs": [],
   "source": [
    "from scipy.optimize import fmin_l_bfgs_b"
   ]
  },
  {
   "cell_type": "markdown",
   "metadata": {},
   "source": [
    "### Load Data"
   ]
  },
  {
   "cell_type": "code",
   "execution_count": 46,
   "metadata": {
    "scrolled": true
   },
   "outputs": [],
   "source": [
    "%run Utils.ipynb"
   ]
  },
  {
   "cell_type": "code",
   "execution_count": 52,
   "metadata": {},
   "outputs": [],
   "source": [
    "# runs as greedy if epsilon set to 0\n",
    "# parameters:\n",
    "# epsilon = random (non-greedy) choice probability, between [0-1]\n",
    "#   \n",
    "class EpsilonGreedy:\n",
    "    \n",
    "    def __init__(self,epsilon, simulation=True): \n",
    "        self.epsilon = epsilon\n",
    "        self.recommended_song_ids = []\n",
    "        self.simulation = simulation\n",
    "        self.cumulative_regret = 0\n",
    "        self.recommend_song()\n",
    "\n",
    "    \n",
    "    def get_last_song_id(self):\n",
    "        return self.recommended_song_ids[-1]\n",
    "    \n",
    "    \n",
    "    def recommend_song(self):\n",
    "        if len(self.recommended_song_ids) == 0 or self.epsilon > np.random.rand():\n",
    "            song_id = np.random.randint(num_songs)#random choice\n",
    "        else:\n",
    "            song_id = self.recommended_song_candidate# greedy choice\n",
    "        self.recommended_song_ids.append(song_id)\n",
    "        recommend_song(song_id, self.simulation)\n",
    "#         print(str(song_id) + ' ' + song_names[song_id])\n",
    "        print(self.cumulative_regret)\n",
    "\n",
    "        \n",
    "    def feedback(self,rating):\n",
    "        rate_song(rating)\n",
    "        t = get_all_times()\n",
    "        x = get_all_features()\n",
    "        theta, s = self.calculate_theta_s()\n",
    "        self.recommended_song_candidate = np.argmax(theta.T.dot(x)*(1 - np.exp(-t/s)))\n",
    "        self.calculate_cumulative_regret(theta, s)\n",
    "        self.recommend_song()\n",
    "    \n",
    "    \n",
    "    def calculate_cumulative_regret(self, theta, s):\n",
    "        y = get_ratings()\n",
    "        t = get_history_times()\n",
    "        x = get_history_features()\n",
    "        y_model = theta.T.dot(x)*(1 - np.exp(-t/s))\n",
    "        self.cumulative_regret = np.average(y - y_model)\n",
    "        \n",
    "    \n",
    "    \n",
    "    def calculate_theta_s(self):\n",
    "        initial_values = np.zeros(p + 1)\n",
    "        initial_values[-1] = 1\n",
    "        x = get_history_features()\n",
    "        y = get_ratings()\n",
    "        t = get_history_times()\n",
    "        position, _, _ = fmin_l_bfgs_b(self.optimization, x0=initial_values, args=(x, y, t), approx_grad=True)\n",
    "        theta = position[:-1]\n",
    "        s = position[-1]\n",
    "        return theta, s\n",
    "    \n",
    "    \n",
    "    def optimization(self, params, *args):\n",
    "        x = args[0]\n",
    "        y = args[1]\n",
    "        t = args[2]\n",
    "        theta = params[:-1]\n",
    "        s = params[-1]\n",
    "        y_model = theta.T.dot(x)*(1 - np.exp(-t/s))\n",
    "        error = y - y_model\n",
    "        return sum(error**2)\n",
    "        "
   ]
  },
  {
   "cell_type": "markdown",
   "metadata": {},
   "source": [
    "## Test"
   ]
  },
  {
   "cell_type": "code",
   "execution_count": 48,
   "metadata": {},
   "outputs": [
    {
     "name": "stdout",
     "output_type": "stream",
     "text": [
      "6194 All The Pretty Girls Leave Town\n",
      "0\n"
     ]
    }
   ],
   "source": [
    "eg = EpsilonGreedy(1)"
   ]
  },
  {
   "cell_type": "code",
   "execution_count": 26,
   "metadata": {},
   "outputs": [
    {
     "name": "stdout",
     "output_type": "stream",
     "text": [
      "1001 Everything I Own\n"
     ]
    }
   ],
   "source": [
    "eg.feedback(2)"
   ]
  },
  {
   "cell_type": "code",
   "execution_count": 27,
   "metadata": {},
   "outputs": [
    {
     "name": "stdout",
     "output_type": "stream",
     "text": [
      "2988 Proper Nice\n"
     ]
    }
   ],
   "source": [
    "eg.feedback(5)"
   ]
  },
  {
   "cell_type": "code",
   "execution_count": 28,
   "metadata": {},
   "outputs": [
    {
     "name": "stdout",
     "output_type": "stream",
     "text": [
      "4387 Black Betty\n"
     ]
    }
   ],
   "source": [
    "eg.feedback(4)"
   ]
  },
  {
   "cell_type": "code",
   "execution_count": 29,
   "metadata": {},
   "outputs": [
    {
     "name": "stdout",
     "output_type": "stream",
     "text": [
      "4875 Sad Robot\n"
     ]
    }
   ],
   "source": [
    "eg.feedback(5)"
   ]
  },
  {
   "cell_type": "code",
   "execution_count": 30,
   "metadata": {},
   "outputs": [
    {
     "name": "stdout",
     "output_type": "stream",
     "text": [
      "5258 White Eagle\n"
     ]
    }
   ],
   "source": [
    "eg.feedback(5)"
   ]
  },
  {
   "cell_type": "code",
   "execution_count": 31,
   "metadata": {},
   "outputs": [
    {
     "name": "stdout",
     "output_type": "stream",
     "text": [
      "3450 Point Of No Return\n"
     ]
    }
   ],
   "source": [
    "eg.feedback(1)"
   ]
  },
  {
   "cell_type": "code",
   "execution_count": 32,
   "metadata": {},
   "outputs": [
    {
     "name": "stdout",
     "output_type": "stream",
     "text": [
      "5359 The Junkie Song\n"
     ]
    }
   ],
   "source": [
    "eg.feedback(0)"
   ]
  },
  {
   "cell_type": "code",
   "execution_count": 33,
   "metadata": {},
   "outputs": [
    {
     "name": "stdout",
     "output_type": "stream",
     "text": [
      "4740 Sworn To A Great Divide\n"
     ]
    }
   ],
   "source": [
    "eg.feedback(1)"
   ]
  },
  {
   "cell_type": "code",
   "execution_count": 34,
   "metadata": {},
   "outputs": [
    {
     "name": "stdout",
     "output_type": "stream",
     "text": [
      "1607 French\n"
     ]
    }
   ],
   "source": [
    "eg.feedback(2)"
   ]
  },
  {
   "cell_type": "markdown",
   "metadata": {},
   "source": [
    "## Notes for poster:"
   ]
  },
  {
   "cell_type": "markdown",
   "metadata": {},
   "source": [
    "In greedy approach the song with maximum expected rating is used. Where expected rating is calculated from previous ratings of the user. Since there is no exploration in greedy approach all unlistened songs have expected rating of 0.\n",
    "\n",
    "Since our system initializes with no pre listened songs. Pure exploration can not be even initialized. To avoid this we have used ε-greedy approach. In which the recommended song is chosen randomly with probability ε (epsilon). This allows limited-random exploitation.\n"
   ]
  },
  {
   "cell_type": "markdown",
   "metadata": {},
   "source": [
    "## References\n",
    "\n",
    "https://github.com/agilajah/multi-armed-bandit\n",
    "    "
   ]
  }
 ],
 "metadata": {
  "kernelspec": {
   "display_name": "Python 3",
   "language": "python",
   "name": "python3"
  },
  "language_info": {
   "codemirror_mode": {
    "name": "ipython",
    "version": 3
   },
   "file_extension": ".py",
   "mimetype": "text/x-python",
   "name": "python",
   "nbconvert_exporter": "python",
   "pygments_lexer": "ipython3",
   "version": "3.6.7"
  }
 },
 "nbformat": 4,
 "nbformat_minor": 2
}
