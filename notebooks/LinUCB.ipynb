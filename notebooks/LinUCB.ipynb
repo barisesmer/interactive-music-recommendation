{
 "cells": [
  {
   "cell_type": "markdown",
   "metadata": {},
   "source": [
    "# LinUCB"
   ]
  },
  {
   "cell_type": "markdown",
   "metadata": {},
   "source": [
    "## !! not working correct, needs inspection"
   ]
  },
  {
   "cell_type": "markdown",
   "metadata": {},
   "source": [
    "UCB with Linear Hypotheses"
   ]
  },
  {
   "cell_type": "markdown",
   "metadata": {},
   "source": [
    "Like all UCB methods, LinUCB always chooses the arm with highest UCB"
   ]
  },
  {
   "cell_type": "code",
   "execution_count": 4,
   "metadata": {},
   "outputs": [],
   "source": [
    "import numpy as np \n",
    "import matplotlib.pyplot as plt\n"
   ]
  },
  {
   "cell_type": "markdown",
   "metadata": {},
   "source": [
    "## Algorithm\n"
   ]
  },
  {
   "cell_type": "code",
   "execution_count": 367,
   "metadata": {},
   "outputs": [],
   "source": [
    "class LinUCB:\n",
    "    def __init__(self, alpha, song_features):\n",
    "        self.d = song_features.shape[0] # number of songs\n",
    "        self.K = song_features.shape[1] # length of feature vector\n",
    "        self.alpha = alpha\n",
    "        #self.song_features = song_features # d * K matrix showing features of songs\n",
    "        self.song_features = song_features\n",
    "        self.feature_weights = np.zeros(self.K) # update with ratings\n",
    "        self.weighted_song_vectors = np.zeros((self.d, self.K)) # song_feature_vectors * feature_weights\n",
    "        self.A = np.zeros((self.d, self.K, self.K))\n",
    "        for i in range(self.d):\n",
    "            self.A[i] = np.identity(self.K)\n",
    "        self.b = np.zeros((self.d, self.K))\n",
    "        self.theta_hat = np.zeros(self.K)\n",
    "        self.choosen_song_index = 0 # random initial value\n",
    "        self.p = np.zeros(self.d)\n",
    "        self.norms = []\n",
    "        self.ratings = []\n",
    "        self.choices = []\n",
    "        self.rewards = []\n",
    "        self.epsilon = 0.2\n",
    "    \n",
    "\n",
    "    def recommend_song(self):\n",
    "        #x = song_features[self.choosen_song_index]\n",
    "        for a in range(self.d):\n",
    "            x = song_features[a]\n",
    "            #print(a)\n",
    "            A_inv = np.linalg.inv(self.A[a])\n",
    "            #print(A_inv.dot(self.b[a]))\n",
    "            self.theta_hat = A_inv.dot(self.b[a])\n",
    "            ta = x.dot(A_inv).dot(x)\n",
    "            a_upper_ci = self.alpha * np.sqrt(ta)\n",
    "            a_mean = self.theta_hat.dot(x)\n",
    "            self.p[a] = a_mean + a_upper_ci\n",
    "            #print(x.T.dot(np.linalg.inv(self.A).dot(x[a])))\n",
    "        # update parameters\n",
    "        #print(self.theta_hat)\n",
    "        self.norms.append(np.linalg.norm(self.theta_hat - theta))\n",
    "        self.p = self.p + (np.random.random(len(self.p)) * 0.00001)\n",
    "        recommended_song = self.p.argmax()\n",
    "        self.choices.append(recommended_song)\n",
    "        self.choosen_song_index = recommended_song\n",
    "        print(recommended_song)\n",
    "        print(self.p)\n",
    "        return recommended_song\n",
    "    \n",
    "    def feedback_for_song(self, rating):\n",
    "        x = self.song_features[self.choosen_song_index]\n",
    "        #rating = theta.dot(x) * 0.1\n",
    "        print('rating')\n",
    "        #print(rating)\n",
    "        print(self.p)\n",
    "        self.ratings.append(rating)\n",
    "        self.A[song_index] += np.outer(x, x)\n",
    "        self.b[self.p.argmax()] += rating * x\n",
    "        #print(self.p)\n",
    "        "
   ]
  },
  {
   "cell_type": "markdown",
   "metadata": {},
   "source": [
    "## Test"
   ]
  },
  {
   "cell_type": "code",
   "execution_count": 331,
   "metadata": {},
   "outputs": [
    {
     "name": "stdout",
     "output_type": "stream",
     "text": [
      "[0.1 0.7 0.2 0.1]\n"
     ]
    }
   ],
   "source": [
    "num_songs = 5\n",
    "num_feats = 4\n",
    "alpha = 0.8\n",
    "theta = np.array([0.1, 0.7, 0.2, 0.1])\n",
    "s = 3"
   ]
  },
  {
   "cell_type": "code",
   "execution_count": 365,
   "metadata": {
    "scrolled": true
   },
   "outputs": [
    {
     "name": "stdout",
     "output_type": "stream",
     "text": [
      "recommendation song index : 0\n",
      "4\n",
      "[ 2.26314906  4.0800043   1.78984863  3.20009904 11.31371871]\n",
      "rating\n",
      "[ 2.26314906  4.0800043   1.78984863  3.20009904 11.31371871]\n",
      "4\n",
      "[2.26355929 4.07929261 1.78890522 3.20093122 5.77404819]\n",
      "rating\n",
      "[2.26355929 4.07929261 1.78890522 3.20093122 5.77404819]\n",
      "1\n",
      "[2.26293089 4.07949017 1.78889998 3.20016089 3.55799316]\n",
      "rating\n",
      "[2.26293089 4.07949017 1.78889998 3.20016089 3.55799316]\n",
      "4\n",
      "[2.26320068 1.74849401 1.78982707 3.2007621  3.55830459]\n",
      "rating\n",
      "[2.26320068 1.74849401 1.78982707 3.2007621  3.55830459]\n",
      "3\n",
      "[2.26357968 1.7483417  1.78922478 3.20075705 2.79109804]\n",
      "rating\n",
      "[2.26357968 1.7483417  1.78922478 3.20075705 2.79109804]\n",
      "4\n",
      "[2.26358146 1.74863044 1.78955795 1.71763769 2.79184711]\n",
      "rating\n",
      "[2.26358146 1.74863044 1.78955795 1.71763769 2.79184711]\n",
      "4\n",
      "[2.26353053 1.74823668 1.78950444 1.71740745 2.3982103 ]\n",
      "rating\n",
      "[2.26353053 1.74823668 1.78950444 1.71740745 2.3982103 ]\n",
      "0\n",
      "[2.2631742  1.74808914 1.78947125 1.71742568 2.1560002 ]\n",
      "rating\n",
      "[2.2631742  1.74808914 1.78947125 1.71742568 2.1560002 ]\n",
      "4\n",
      "[1.64396603 1.74811528 1.7894016  1.71826297 2.15616603]\n",
      "rating\n",
      "[1.64396603 1.74811528 1.7894016  1.71826297 2.15616603]\n",
      "4\n",
      "[1.64343114 1.74859315 1.78980003 1.71817712 1.99233546]\n",
      "rating\n",
      "[1.64343114 1.74859315 1.78980003 1.71817712 1.99233546]\n",
      "4\n",
      "[1.64337736 1.74879327 1.7891961  1.71761182 1.87287229]\n",
      "rating\n",
      "[1.64337736 1.74879327 1.7891961  1.71761182 1.87287229]\n",
      "4\n",
      "[1.64353468 1.74845803 1.78952086 1.71786727 2.28229303]\n",
      "rating\n",
      "[1.64353468 1.74845803 1.78952086 1.71786727 2.28229303]\n",
      "4\n",
      "[1.64411241 1.74852657 1.78971648 1.71777231 2.15503669]\n",
      "rating\n",
      "[1.64411241 1.74852657 1.78971648 1.71777231 2.15503669]\n",
      "4\n",
      "[1.64394371 1.74852818 1.78909301 1.71734257 2.05209842]\n",
      "rating\n",
      "[1.64394371 1.74852818 1.78909301 1.71734257 2.05209842]\n",
      "4\n",
      "[1.64352361 1.74826023 1.78978307 1.71752468 1.96858476]\n",
      "rating\n",
      "[1.64352361 1.74826023 1.78978307 1.71752468 1.96858476]\n",
      "4\n",
      "[1.6431654  1.74871562 1.78965049 1.7174313  1.89730701]\n",
      "rating\n",
      "[1.6431654  1.74871562 1.78965049 1.7174313  1.89730701]\n",
      "4\n",
      "[1.64403326 1.74855158 1.78900475 1.71815339 1.83680584]\n",
      "rating\n",
      "[1.64403326 1.74855158 1.78900475 1.71815339 1.83680584]\n",
      "2\n",
      "[1.643402   1.74867605 1.78912782 1.71797342 1.78541193]\n",
      "rating\n",
      "[1.643402   1.74867605 1.78912782 1.71797342 1.78541193]\n",
      "4\n",
      "[1.6434104  1.74801471 1.56457352 1.7181842  1.78506592]\n",
      "rating\n",
      "[1.6434104  1.74801471 1.56457352 1.7181842  1.78506592]\n",
      "1\n",
      "[1.64381725 1.74832184 1.56431232 1.71745738 1.73983175]\n",
      "rating\n",
      "[1.64381725 1.74832184 1.56431232 1.71745738 1.73983175]\n"
     ]
    }
   ],
   "source": [
    "song_features = np.array([[2., 2., 0., 0.],\n",
    "       [1., 0., 4., 3.],\n",
    "       [1., 0., 0., 2.],\n",
    "       [0., 0., 4., 0.],\n",
    "       [0., 10., 0., 10.]])\n",
    "test = LinUCB(num_songs,num_feats,alpha,song_features)\n",
    "for i in range(20):\n",
    "    recommendation = test.recommend_song()\n",
    "    #print(test.theta_hat)\n",
    "    test.feedback_for_song(recommendation, rating)"
   ]
  },
  {
   "cell_type": "code",
   "execution_count": 359,
   "metadata": {},
   "outputs": [
    {
     "name": "stdout",
     "output_type": "stream",
     "text": [
      "3\n",
      "[2.26291681 3.01391249 1.7898095  3.20088287 0.79863993]\n"
     ]
    },
    {
     "data": {
      "text/plain": [
       "3"
      ]
     },
     "execution_count": 359,
     "metadata": {},
     "output_type": "execute_result"
    }
   ],
   "source": [
    "test.recommend_song()"
   ]
  },
  {
   "cell_type": "code",
   "execution_count": 358,
   "metadata": {},
   "outputs": [
    {
     "name": "stdout",
     "output_type": "stream",
     "text": [
      "rating\n",
      "0\n",
      "[2.26302047 5.59996686 1.78943165 3.20007064 0.79840111]\n"
     ]
    }
   ],
   "source": [
    "test.feedback_for_song(1, 0)"
   ]
  },
  {
   "cell_type": "code",
   "execution_count": 366,
   "metadata": {},
   "outputs": [
    {
     "data": {
      "image/png": "[encoded data removed]",
      "text/plain": [
       "<Figure size 720x360 with 1 Axes>"
      ]
     },
     "metadata": {},
     "output_type": "display_data"
    }
   ],
   "source": [
    "norms = test.norms\n",
    "plt.figure(1,figsize=(10,5))\n",
    "plt.plot(norms);\n",
    "plt.title(\"Frobenius norm of estimated theta vs actual\");"
   ]
  },
  {
   "cell_type": "markdown",
   "metadata": {},
   "source": [
    "## Notes For Poster\n",
    "\n",
    "lorem ipsum"
   ]
  },
  {
   "cell_type": "markdown",
   "metadata": {},
   "source": [
    "## References\n",
    "\n",
    "https://dl.acm.org/citation.cfm?id=1772758 (lin ucb base paper)\n",
    "\n",
    "http://proceedings.mlr.press/v15/chu11a/chu11a.pdf (lin ucb algorithm)\n",
    "\n",
    "https://github.com/Fengrui/LinearUCB-python/blob/master/policy_lin_ucb2.py (lin ucb implementation)\n",
    "\n",
    "https://github.com/akhadangi/Multi-armed-Bandits/blob/master/Multi-armed%20Bandits.ipynb (lin ucb implementation)"
   ]
  },
  {
   "cell_type": "code",
   "execution_count": null,
   "metadata": {},
   "outputs": [],
   "source": []
  },
  {
   "cell_type": "code",
   "execution_count": null,
   "metadata": {},
   "outputs": [],
   "source": []
  }
 ],
 "metadata": {
  "kernelspec": {
   "display_name": "Python 3",
   "language": "python",
   "name": "python3"
  },
  "language_info": {
   "codemirror_mode": {
    "name": "ipython",
    "version": 3
   },
   "file_extension": ".py",
   "mimetype": "text/x-python",
   "name": "python",
   "nbconvert_exporter": "python",
   "pygments_lexer": "ipython3",
   "version": "3.6.5"
  }
 },
 "nbformat": 4,
 "nbformat_minor": 2
}
